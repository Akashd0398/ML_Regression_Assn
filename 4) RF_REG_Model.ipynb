{
 "cells": [
  {
   "cell_type": "code",
   "execution_count": 1,
   "id": "9b2e7441-be9c-48c5-aef5-3001a0573ca1",
   "metadata": {},
   "outputs": [],
   "source": [
    "#pandas library is imported to handle files, tabes\n",
    "#pd denotes pandas where we use in this module in place of pandas\n",
    "import pandas as pd"
   ]
  },
  {
   "cell_type": "code",
   "execution_count": 2,
   "id": "0b8341cf-ccc1-48c3-91bd-32872cf608e5",
   "metadata": {},
   "outputs": [],
   "source": [
    "#reads dataset using pandas function\n",
    "dataset = pd.read_csv(\"insurance_pre.csv\")"
   ]
  },
  {
   "cell_type": "code",
   "execution_count": 3,
   "id": "82442c9d-7811-41c3-b072-8e106a5980b6",
   "metadata": {},
   "outputs": [
    {
     "data": {
      "text/html": [
       "<div>\n",
       "<style scoped>\n",
       "    .dataframe tbody tr th:only-of-type {\n",
       "        vertical-align: middle;\n",
       "    }\n",
       "\n",
       "    .dataframe tbody tr th {\n",
       "        vertical-align: top;\n",
       "    }\n",
       "\n",
       "    .dataframe thead th {\n",
       "        text-align: right;\n",
       "    }\n",
       "</style>\n",
       "<table border=\"1\" class=\"dataframe\">\n",
       "  <thead>\n",
       "    <tr style=\"text-align: right;\">\n",
       "      <th></th>\n",
       "      <th>Age</th>\n",
       "      <th>BMI</th>\n",
       "      <th>Children</th>\n",
       "      <th>Charges</th>\n",
       "      <th>Sex_male</th>\n",
       "      <th>Smoker_yes</th>\n",
       "    </tr>\n",
       "  </thead>\n",
       "  <tbody>\n",
       "    <tr>\n",
       "      <th>0</th>\n",
       "      <td>19</td>\n",
       "      <td>27.900</td>\n",
       "      <td>0</td>\n",
       "      <td>16884.92400</td>\n",
       "      <td>0</td>\n",
       "      <td>1</td>\n",
       "    </tr>\n",
       "    <tr>\n",
       "      <th>1</th>\n",
       "      <td>18</td>\n",
       "      <td>33.770</td>\n",
       "      <td>1</td>\n",
       "      <td>1725.55230</td>\n",
       "      <td>1</td>\n",
       "      <td>0</td>\n",
       "    </tr>\n",
       "    <tr>\n",
       "      <th>2</th>\n",
       "      <td>28</td>\n",
       "      <td>33.000</td>\n",
       "      <td>3</td>\n",
       "      <td>4449.46200</td>\n",
       "      <td>1</td>\n",
       "      <td>0</td>\n",
       "    </tr>\n",
       "    <tr>\n",
       "      <th>3</th>\n",
       "      <td>33</td>\n",
       "      <td>22.705</td>\n",
       "      <td>0</td>\n",
       "      <td>21984.47061</td>\n",
       "      <td>1</td>\n",
       "      <td>0</td>\n",
       "    </tr>\n",
       "    <tr>\n",
       "      <th>4</th>\n",
       "      <td>32</td>\n",
       "      <td>28.880</td>\n",
       "      <td>0</td>\n",
       "      <td>3866.85520</td>\n",
       "      <td>1</td>\n",
       "      <td>0</td>\n",
       "    </tr>\n",
       "    <tr>\n",
       "      <th>...</th>\n",
       "      <td>...</td>\n",
       "      <td>...</td>\n",
       "      <td>...</td>\n",
       "      <td>...</td>\n",
       "      <td>...</td>\n",
       "      <td>...</td>\n",
       "    </tr>\n",
       "    <tr>\n",
       "      <th>1333</th>\n",
       "      <td>50</td>\n",
       "      <td>30.970</td>\n",
       "      <td>3</td>\n",
       "      <td>10600.54830</td>\n",
       "      <td>1</td>\n",
       "      <td>0</td>\n",
       "    </tr>\n",
       "    <tr>\n",
       "      <th>1334</th>\n",
       "      <td>18</td>\n",
       "      <td>31.920</td>\n",
       "      <td>0</td>\n",
       "      <td>2205.98080</td>\n",
       "      <td>0</td>\n",
       "      <td>0</td>\n",
       "    </tr>\n",
       "    <tr>\n",
       "      <th>1335</th>\n",
       "      <td>18</td>\n",
       "      <td>36.850</td>\n",
       "      <td>0</td>\n",
       "      <td>1629.83350</td>\n",
       "      <td>0</td>\n",
       "      <td>0</td>\n",
       "    </tr>\n",
       "    <tr>\n",
       "      <th>1336</th>\n",
       "      <td>21</td>\n",
       "      <td>25.800</td>\n",
       "      <td>0</td>\n",
       "      <td>2007.94500</td>\n",
       "      <td>0</td>\n",
       "      <td>0</td>\n",
       "    </tr>\n",
       "    <tr>\n",
       "      <th>1337</th>\n",
       "      <td>61</td>\n",
       "      <td>29.070</td>\n",
       "      <td>0</td>\n",
       "      <td>29141.36030</td>\n",
       "      <td>0</td>\n",
       "      <td>1</td>\n",
       "    </tr>\n",
       "  </tbody>\n",
       "</table>\n",
       "<p>1338 rows × 6 columns</p>\n",
       "</div>"
      ],
      "text/plain": [
       "      Age     BMI  Children      Charges  Sex_male  Smoker_yes\n",
       "0      19  27.900         0  16884.92400         0           1\n",
       "1      18  33.770         1   1725.55230         1           0\n",
       "2      28  33.000         3   4449.46200         1           0\n",
       "3      33  22.705         0  21984.47061         1           0\n",
       "4      32  28.880         0   3866.85520         1           0\n",
       "...   ...     ...       ...          ...       ...         ...\n",
       "1333   50  30.970         3  10600.54830         1           0\n",
       "1334   18  31.920         0   2205.98080         0           0\n",
       "1335   18  36.850         0   1629.83350         0           0\n",
       "1336   21  25.800         0   2007.94500         0           0\n",
       "1337   61  29.070         0  29141.36030         0           1\n",
       "\n",
       "[1338 rows x 6 columns]"
      ]
     },
     "execution_count": 3,
     "metadata": {},
     "output_type": "execute_result"
    }
   ],
   "source": [
    "#Due to Nominal data present in dataset, Use get_dummies to split (One hot encoding)\n",
    "#drop_first is used to eliminate 1st column of state as the result will be same even it is dropped and memory consuming is less\n",
    "dataset = pd.get_dummies(dataset,dtype=int, drop_first = True)\n",
    "#shows the input dataset\n",
    "dataset"
   ]
  },
  {
   "cell_type": "code",
   "execution_count": 4,
   "id": "9fc38f4f-520f-4f49-9a72-0a29b98fadb8",
   "metadata": {},
   "outputs": [],
   "source": [
    "#spliting input and output as independent and dependent\n",
    "independent=dataset[['Age', 'BMI', 'Children', 'Sex_male', 'Smoker_yes']]\n",
    "dependent=dataset[['Charges']]"
   ]
  },
  {
   "cell_type": "code",
   "execution_count": 5,
   "id": "bcc7edd1-9d59-4872-a6f0-71bdb3a3c897",
   "metadata": {},
   "outputs": [],
   "source": [
    "#Spliting training set and test set using sklearn\n",
    "from sklearn.model_selection import train_test_split\n",
    "#X - Input , Y - output\n",
    "X_Train, X_Test, Y_Train, Y_Test = train_test_split(independent, dependent, test_size = 0.30, random_state=0)"
   ]
  },
  {
   "cell_type": "code",
   "execution_count": 47,
   "id": "69d08fb0-967a-452b-810f-8e6bc5af2ecc",
   "metadata": {},
   "outputs": [
    {
     "name": "stderr",
     "output_type": "stream",
     "text": [
      "C:\\Users\\DELL\\AppData\\Local\\Temp\\ipykernel_11780\\1092470044.py:5: DataConversionWarning: A column-vector y was passed when a 1d array was expected. Please change the shape of y to (n_samples,), for example using ravel().\n",
      "  Regressor=Regressor.fit(X_Train,Y_Train)\n"
     ]
    }
   ],
   "source": [
    "#Using RandomForestRegressor algorithm function from sklearn\n",
    "\n",
    "from sklearn.ensemble import RandomForestRegressor\n",
    "Regressor = RandomForestRegressor(criterion='absolute_error',n_estimators=100, max_features='log2')\n",
    "Regressor=Regressor.fit(X_Train,Y_Train)"
   ]
  },
  {
   "cell_type": "code",
   "execution_count": 48,
   "id": "0e126d59-a3b3-42be-8e29-1dde301c3ec5",
   "metadata": {},
   "outputs": [],
   "source": [
    "#to find predicted value from test data\n",
    "Y_Pred = Regressor.predict(X_Test)"
   ]
  },
  {
   "cell_type": "code",
   "execution_count": 49,
   "id": "b916908e-1007-41cb-b2b9-df955c1c205c",
   "metadata": {},
   "outputs": [
    {
     "data": {
      "text/plain": [
       "0.871392237471024"
      ]
     },
     "execution_count": 49,
     "metadata": {},
     "output_type": "execute_result"
    }
   ],
   "source": [
    "#Evaluate using R2 metrics\n",
    "from sklearn.metrics import r2_score\n",
    "#passing actual output of test and predict output to evaluate\n",
    "R_Score = r2_score(Y_Test, Y_Pred)\n",
    "#Check R_Score Value\n",
    "R_Score\n",
    "#if value near to 1 it is good model , near to 0 bad model"
   ]
  },
  {
   "cell_type": "code",
   "execution_count": 50,
   "id": "91068d57-6431-4226-a4c8-a7d136d9a912",
   "metadata": {},
   "outputs": [],
   "source": [
    "#To save model import pickle library\n",
    "import pickle\n",
    "filename = \"Finalised_Model_Reg_Assn.sav\"\n",
    "#to dump the model into file\n",
    "#wb- write funtion \n",
    "pickle.dump(Regressor,open(filename,('wb')))"
   ]
  },
  {
   "cell_type": "code",
   "execution_count": 51,
   "id": "54c3c0e4-86f8-4b59-a03c-8bdb1bcea0ce",
   "metadata": {},
   "outputs": [
    {
     "name": "stderr",
     "output_type": "stream",
     "text": [
      "C:\\Users\\DELL\\anaconda3\\Lib\\site-packages\\sklearn\\base.py:439: UserWarning: X does not have valid feature names, but RandomForestRegressor was fitted with feature names\n",
      "  warnings.warn(\n"
     ]
    }
   ],
   "source": [
    "#to load model and test in real time\n",
    "Loaded_Model = pickle.load(open(\"Finalised_Model_Reg_Assn.sav\",('rb')))\n",
    "Result = Loaded_Model.predict([[30,26,3,0,1]])"
   ]
  },
  {
   "cell_type": "code",
   "execution_count": 52,
   "id": "2312483e-ca10-4d6f-bab9-4cc5d5e892b8",
   "metadata": {},
   "outputs": [
    {
     "data": {
      "text/plain": [
       "array([19414.666721])"
      ]
     },
     "execution_count": 52,
     "metadata": {},
     "output_type": "execute_result"
    }
   ],
   "source": [
    "Result"
   ]
  },
  {
   "cell_type": "code",
   "execution_count": null,
   "id": "03c084bb-087b-4d06-afcc-b5bfcd890b4c",
   "metadata": {},
   "outputs": [],
   "source": []
  }
 ],
 "metadata": {
  "kernelspec": {
   "display_name": "Python 3 (ipykernel)",
   "language": "python",
   "name": "python3"
  },
  "language_info": {
   "codemirror_mode": {
    "name": "ipython",
    "version": 3
   },
   "file_extension": ".py",
   "mimetype": "text/x-python",
   "name": "python",
   "nbconvert_exporter": "python",
   "pygments_lexer": "ipython3",
   "version": "3.11.7"
  }
 },
 "nbformat": 4,
 "nbformat_minor": 5
}
